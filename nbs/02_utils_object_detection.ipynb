{
 "cells": [
  {
   "cell_type": "markdown",
   "metadata": {},
   "source": [
    "# Utils found in this course\n",
    "\n",
    "> Fill in a module description here"
   ]
  },
  {
   "cell_type": "code",
   "execution_count": null,
   "metadata": {},
   "outputs": [],
   "source": [
    "#| default_exp utils"
   ]
  },
  {
   "cell_type": "code",
   "execution_count": null,
   "metadata": {},
   "outputs": [],
   "source": [
    "#| export\n",
    "import matplotlib.pyplot as plt\n",
    "import matplotlib.patheffects as pe\n",
    "import numpy as np\n",
    "from skimage import measure\n",
    "import random\n",
    "from PIL import Image\n",
    "import json\n"
   ]
  },
  {
   "cell_type": "code",
   "execution_count": null,
   "metadata": {},
   "outputs": [],
   "source": [
    "#| export\n",
    "\n",
    "def preprocess_outputs(output):\n",
    "    input_scores = [x[\"score\"] for x in output]\n",
    "    input_labels = [x[\"label\"] for x in output]\n",
    "    input_boxes = []\n",
    "    for i in range(len(output)):\n",
    "        input_boxes.append([*output[i][\"box\"].values()])\n",
    "    input_boxes = [input_boxes]\n",
    "    return input_scores, input_labels, input_boxes\n"
   ]
  },
  {
   "cell_type": "code",
   "execution_count": null,
   "metadata": {},
   "outputs": [],
   "source": [
    "#| export\n",
    "def show_mask(mask, ax, random_color=False):\n",
    "    if random_color:\n",
    "        color = np.concatenate([np.random.random(3), np.array([0.6])], axis=0)\n",
    "    else:\n",
    "        color = np.array([30 / 255, 144 / 255, 255 / 255, 0.6])\n",
    "    h, w = mask.shape[-2:]\n",
    "    mask_image = mask.reshape(h, w, 1) * color.reshape(1, 1, -1)\n",
    "    ax.imshow(mask_image)\n"
   ]
  },
  {
   "cell_type": "code",
   "execution_count": null,
   "metadata": {},
   "outputs": [],
   "source": [
    "#| export\n",
    "def show_box(box, ax):\n",
    "    x0, y0 = box[0], box[1]\n",
    "    w, h = box[2] - box[0], box[3] - box[1]\n",
    "    ax.add_patch(\n",
    "        plt.Rectangle((x0, y0), w, h, edgecolor=\"green\", facecolor=(0, 0, 0, 0), lw=2)\n",
    "    )\n",
    "\n",
    "#| export\n",
    "def show_boxes_on_image(raw_image, boxes):\n",
    "    plt.figure(figsize=(10, 10))\n",
    "    plt.imshow(raw_image)\n",
    "    for box in boxes:\n",
    "        show_box(box, plt.gca())\n",
    "    plt.axis(\"on\")\n",
    "    plt.show()\n",
    "\n",
    "#| export\n",
    "def show_boxes_and_labels_on_image(raw_image, boxes, labels, scores):\n",
    "    plt.figure(figsize=(10, 10))\n",
    "    plt.imshow(raw_image)\n",
    "    for i, box in enumerate(boxes):\n",
    "        show_box(box, plt.gca())\n",
    "        plt.text(\n",
    "            x=box[0],\n",
    "            y=box[1] - 12,\n",
    "            s=f\"{labels[i]}: {scores[i]:,.4f}\",\n",
    "            c=\"beige\",\n",
    "            path_effects=[pe.withStroke(linewidth=4, foreground=\"darkgreen\")],\n",
    "        )\n",
    "    plt.axis(\"on\")\n",
    "    plt.show()\n",
    "\n",
    "#| export\n",
    "def show_masks_on_image(raw_image, masks):\n",
    "    # Create a mask image (assuming binary mask)\n",
    "    image_with_mask = raw_image.convert(\"RGBA\")\n",
    "    \n",
    "    for mask in masks:\n",
    "        mask = mask.cpu().numpy()\n",
    "        \n",
    "        width, height = image_with_mask.size\n",
    "        mask_array = np.zeros((height, width, 4), dtype=np.uint8)\n",
    "        color = [random.randint(0, 255), random.randint(0, 255), random.randint(0, 255), 150]\n",
    "        \n",
    "        mask_array[mask, :] = color\n",
    "        mask_image = Image.fromarray(mask_array)\n",
    "        \n",
    "        \n",
    "        # Overlay the mask on the image\n",
    "        image_with_mask = Image.alpha_composite(\n",
    "            image_with_mask,\n",
    "            mask_image)\n",
    "    \n",
    "    # Display the result\n",
    "    return image_with_mask\n"
   ]
  },
  {
   "cell_type": "code",
   "execution_count": null,
   "metadata": {},
   "outputs": [],
   "source": [
    "#| export\n",
    "def show_multiple_masks_on_image(raw_image, masks, scores):\n",
    "    fig, ax = plt.subplots(figsize=(10, 10))\n",
    "    ax.imshow(np.array(raw_image))\n",
    "    for idx in range(len(masks[0])):\n",
    "        mask = masks[0][idx][0].cpu().detach()\n",
    "        show_mask(mask, ax, random_color=True)\n",
    "    ax.axis(\"off\")\n",
    "    plt.show()\n"
   ]
  },
  {
   "cell_type": "code",
   "execution_count": null,
   "metadata": {},
   "outputs": [],
   "source": [
    "#| export\n",
    "def show_binary_mask(masks, scores):\n",
    "    if len(masks.shape) == 4:\n",
    "        masks = masks.squeeze()\n",
    "    if scores.shape[0] == 1:\n",
    "        scores = scores.squeeze()\n",
    "\n",
    "    fig, ax = plt.subplots(figsize=(10, 10))\n",
    "    idx = scores.tolist().index(max(scores))\n",
    "    mask = masks[idx].cpu().detach()\n",
    "    ax.imshow(np.array(masks[0, :, :]), cmap=\"gray\")\n",
    "    score = scores[idx]\n",
    "    ax.title.set_text(f\"Score: {score.item():.3f}\")\n",
    "    ax.axis(\"off\")\n",
    "    plt.show()\n"
   ]
  },
  {
   "cell_type": "code",
   "execution_count": null,
   "metadata": {},
   "outputs": [],
   "source": [
    "#| export\n",
    "def make_sam_mask(boolean_mask):\n",
    "    contours = measure.find_contours(boolean_mask, 0.5)\n",
    "    mask_points = []\n",
    "    for contour in contours:\n",
    "        contour = np.flip(contour, axis=1)\n",
    "        segmentation = contour.ravel().tolist()\n",
    "        mask_points.append(segmentation)\n",
    "    return mask_points\n"
   ]
  },
  {
   "cell_type": "code",
   "execution_count": null,
   "metadata": {},
   "outputs": [],
   "source": [
    "#| export\n",
    "def make_coco_boxes(detections_boxes):\n",
    "\n",
    "    \"\"\"Convert torch tensor Pascal VOC bboxes to COCO format for Comet annotations\"\"\"\n",
    "\n",
    "    list_boxes = detections_boxes\n",
    "    coco_boxes = [\n",
    "        [\n",
    "            list_boxes[0],\n",
    "            list_boxes[1],\n",
    "            (list_boxes[2] - list_boxes[0]),\n",
    "            (list_boxes[3] - list_boxes[1]),\n",
    "        ]\n",
    "    ]\n",
    "    return coco_boxes\n"
   ]
  },
  {
   "cell_type": "code",
   "execution_count": null,
   "metadata": {},
   "outputs": [],
   "source": [
    "#| export\n",
    "def make_bbox_annots(input_scores, input_labels, input_boxes, image_metadata):\n",
    "\n",
    "    if len(input_boxes[0]) == 0:\n",
    "        return None\n",
    "\n",
    "    annotations = [\n",
    "        {\n",
    "            \"name\": \"bbox annots\",\n",
    "            \"data\": [],\n",
    "            \"metadata\": image_metadata,\n",
    "        }\n",
    "    ]\n",
    "\n",
    "    for i in range(len(input_boxes[0])):\n",
    "        annotations[0][\"data\"].append(\n",
    "            {\n",
    "                \"label\": input_labels[i],\n",
    "                \"score\": round((input_scores[i] * 100), 2),\n",
    "                # bboxes in pascal_voc format, return in coco format for Comet annotations\n",
    "                \"boxes\": make_coco_boxes(input_boxes[0][i]),\n",
    "                \"points\": None,\n",
    "            }\n",
    "        )\n",
    "    annotations = json.loads(json.dumps(annotations))\n",
    "    return annotations\n"
   ]
  },
  {
   "cell_type": "code",
   "execution_count": null,
   "metadata": {},
   "outputs": [],
   "source": [
    "#| export\n",
    "def make_mask_annots(input_masks,\n",
    "                     input_labels,\n",
    "                     image_metadata\n",
    "                    ):\n",
    "\n",
    "    if len(input_masks[0]) == 0:\n",
    "        return None\n",
    "\n",
    "    annotations = [\n",
    "        {\n",
    "            \"name\": \"mask annots\",\n",
    "            \"data\": [],\n",
    "            \"meta_data\": image_metadata,\n",
    "        }\n",
    "    ]\n",
    "\n",
    "    for i in range(len(input_masks)):\n",
    "        annotations[0][\"data\"].append(\n",
    "            {\n",
    "                \"label\": input_labels[i],\n",
    "                \"score\": 100.00,\n",
    "                \"points\": make_sam_mask(input_masks[i]),\n",
    "            }\n",
    "        )\n",
    "    annotations = json.loads(json.dumps(annotations))\n",
    "    return annotations\n"
   ]
  },
  {
   "cell_type": "code",
   "execution_count": null,
   "metadata": {},
   "outputs": [],
   "source": [
    "#| hide\n",
    "from nbdev.showdoc import *"
   ]
  },
  {
   "cell_type": "code",
   "execution_count": null,
   "metadata": {},
   "outputs": [],
   "source": [
    "#| export\n",
    "def foo(): pass"
   ]
  },
  {
   "cell_type": "code",
   "execution_count": null,
   "metadata": {},
   "outputs": [],
   "source": [
    "#| hide\n",
    "import nbdev; nbdev.nbdev_export()"
   ]
  }
 ],
 "metadata": {
  "kernelspec": {
   "display_name": "python3",
   "language": "python",
   "name": "python3"
  }
 },
 "nbformat": 4,
 "nbformat_minor": 4
}
